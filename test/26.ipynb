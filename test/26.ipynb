{
  "nbformat": 4,
  "nbformat_minor": 0,
  "metadata": {
    "colab": {
      "provenance": []
    },
    "kernelspec": {
      "name": "python3",
      "display_name": "Python 3"
    },
    "language_info": {
      "name": "python"
    }
  },
  "cells": [
    {
      "cell_type": "code",
      "execution_count": 1,
      "metadata": {
        "id": "rZ-94AtupsLM"
      },
      "outputs": [],
      "source": [
        "import dis"
      ]
    },
    {
      "cell_type": "code",
      "source": [
        "def minutes_in_year_slow():\n",
        "    1 + 1\n",
        "    minutes_day = 60 * 24\n",
        "    return minutes_day * 365\n",
        "\n",
        "def minutes_in_year_fast():\n",
        "    return 60 * 24 * 365"
      ],
      "metadata": {
        "id": "PUPcn6BIpvqF"
      },
      "execution_count": 7,
      "outputs": []
    },
    {
      "cell_type": "code",
      "source": [
        "minutes_in_year_fast()"
      ],
      "metadata": {
        "colab": {
          "base_uri": "https://localhost:8080/"
        },
        "id": "zBxPPSlgrsJ_",
        "outputId": "cf440047-97eb-4f65-db1a-dcb14d403352"
      },
      "execution_count": 3,
      "outputs": [
        {
          "output_type": "execute_result",
          "data": {
            "text/plain": [
              "525600"
            ]
          },
          "metadata": {},
          "execution_count": 3
        }
      ]
    },
    {
      "cell_type": "code",
      "source": [
        "%%timeit\n",
        "minutes_in_year_slow()"
      ],
      "metadata": {
        "colab": {
          "base_uri": "https://localhost:8080/"
        },
        "id": "7LiQ0JXMpxwh",
        "outputId": "a26164c9-5032-42a7-8ab5-0dd7eda09153"
      },
      "execution_count": 17,
      "outputs": [
        {
          "output_type": "stream",
          "name": "stdout",
          "text": [
            "144 ns Â± 37.5 ns per loop (mean Â± std. dev. of 7 runs, 10000000 loops each)\n"
          ]
        }
      ]
    },
    {
      "cell_type": "code",
      "source": [
        "%%timeit\n",
        "minutes_in_year_fast()"
      ],
      "metadata": {
        "colab": {
          "base_uri": "https://localhost:8080/"
        },
        "id": "c5YDDnstp0_a",
        "outputId": "1007c72b-597e-4697-ab3b-6f472270b665"
      },
      "execution_count": 18,
      "outputs": [
        {
          "output_type": "stream",
          "name": "stdout",
          "text": [
            "104 ns Â± 30.6 ns per loop (mean Â± std. dev. of 7 runs, 10000000 loops each)\n"
          ]
        }
      ]
    },
    {
      "cell_type": "code",
      "source": [
        "dis.dis(minutes_in_year_slow)"
      ],
      "metadata": {
        "colab": {
          "base_uri": "https://localhost:8080/"
        },
        "id": "RWwOKIuhp34M",
        "outputId": "5019f51b-7fcf-43bf-9ae3-4e237c72bc0f"
      },
      "execution_count": 8,
      "outputs": [
        {
          "output_type": "stream",
          "name": "stdout",
          "text": [
            "  2           0 NOP\n",
            "\n",
            "  3           2 LOAD_CONST               1 (1440)\n",
            "              4 STORE_FAST               0 (minutes_day)\n",
            "\n",
            "  4           6 LOAD_FAST                0 (minutes_day)\n",
            "              8 LOAD_CONST               2 (365)\n",
            "             10 BINARY_MULTIPLY\n",
            "             12 RETURN_VALUE\n"
          ]
        }
      ]
    },
    {
      "cell_type": "code",
      "source": [
        "dis.dis(minutes_in_year_fast)"
      ],
      "metadata": {
        "colab": {
          "base_uri": "https://localhost:8080/"
        },
        "id": "gIAXDQUnqbJo",
        "outputId": "446aa394-c9b0-4cb3-f39b-cf21f0d07903"
      },
      "execution_count": 4,
      "outputs": [
        {
          "output_type": "stream",
          "name": "stdout",
          "text": [
            "  6           0 LOAD_CONST               1 (525600)\n",
            "              2 RETURN_VALUE\n"
          ]
        }
      ]
    },
    {
      "cell_type": "code",
      "source": [
        "[print(inst) for inst in dis.Bytecode(\"1+2+3\")]"
      ],
      "metadata": {
        "colab": {
          "base_uri": "https://localhost:8080/"
        },
        "id": "pDWGVN3wqdsR",
        "outputId": "a5491193-89f5-4d5e-eb56-0479ee2d9f9d"
      },
      "execution_count": 27,
      "outputs": [
        {
          "output_type": "stream",
          "name": "stdout",
          "text": [
            "Instruction(opname='LOAD_CONST', opcode=100, arg=0, argval=6, argrepr='6', offset=0, starts_line=1, is_jump_target=False)\n",
            "Instruction(opname='RETURN_VALUE', opcode=83, arg=None, argval=None, argrepr='', offset=2, starts_line=None, is_jump_target=False)\n"
          ]
        },
        {
          "output_type": "execute_result",
          "data": {
            "text/plain": [
              "[None, None]"
            ]
          },
          "metadata": {},
          "execution_count": 27
        }
      ]
    },
    {
      "cell_type": "code",
      "source": [
        "dis.dis(\"x=2\")"
      ],
      "metadata": {
        "colab": {
          "base_uri": "https://localhost:8080/"
        },
        "id": "AYWS6_a4r_wo",
        "outputId": "9efaef8e-2f07-48ea-fa1d-fb5663249b40"
      },
      "execution_count": 3,
      "outputs": [
        {
          "output_type": "stream",
          "name": "stdout",
          "text": [
            "  1           0 LOAD_CONST               0 (2)\n",
            "              2 STORE_NAME               0 (x)\n",
            "              4 LOAD_CONST               1 (None)\n",
            "              6 RETURN_VALUE\n"
          ]
        }
      ]
    },
    {
      "cell_type": "code",
      "source": [
        "dis.dis(\"x = 2\\nx+4\")"
      ],
      "metadata": {
        "colab": {
          "base_uri": "https://localhost:8080/"
        },
        "id": "mQn8O-TgUm2A",
        "outputId": "73847dd9-cf6a-4bae-ee8c-0fdfba8fcf4c"
      },
      "execution_count": 6,
      "outputs": [
        {
          "output_type": "stream",
          "name": "stdout",
          "text": [
            "  1           0 LOAD_CONST               0 (2)\n",
            "              2 STORE_NAME               0 (x)\n",
            "\n",
            "  2           4 LOAD_NAME                0 (x)\n",
            "              6 LOAD_CONST               1 (4)\n",
            "              8 BINARY_ADD\n",
            "             10 POP_TOP\n",
            "             12 LOAD_CONST               2 (None)\n",
            "             14 RETURN_VALUE\n"
          ]
        }
      ]
    },
    {
      "cell_type": "code",
      "source": [],
      "metadata": {
        "id": "wJll0-rmUXQl"
      },
      "execution_count": null,
      "outputs": []
    }
  ]
}